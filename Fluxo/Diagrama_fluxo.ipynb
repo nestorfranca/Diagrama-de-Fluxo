{
 "cells": [
  {
   "cell_type": "markdown",
   "metadata": {},
   "source": [
    "Baixando as bibliotecas "
   ]
  },
  {
   "cell_type": "code",
   "execution_count": null,
   "metadata": {},
   "outputs": [],
   "source": [
    "!pip install sympy"
   ]
  },
  {
   "cell_type": "markdown",
   "metadata": {},
   "source": [
    "Importando as bibliotecas necessarias "
   ]
  },
  {
   "cell_type": "code",
   "execution_count": 15,
   "metadata": {},
   "outputs": [],
   "source": [
    "from sympy import symbols, Matrix, pretty\n",
    "import os, time\n",
    "from sistema import Sistema"
   ]
  },
  {
   "cell_type": "code",
   "execution_count": 18,
   "metadata": {},
   "outputs": [],
   "source": [
    "# Definindo variáveis simbólicas:\n",
    "s = symbols('s')\n",
    "\n",
    "# criando matriz de sinais e sistemas:\n",
    "matriz_de_fluxo = []\n",
    "num_sinais = int(input('\\nO Sistema possui quantos sinais? '))\n",
    "matriz_de_fluxo = Matrix.zeros(num_sinais, num_sinais) #matriz quadrada"
   ]
  },
  {
   "cell_type": "code",
   "execution_count": 24,
   "metadata": {},
   "outputs": [],
   "source": [
    "# ==================================================\n",
    "# FUNÇÕES DE INTERFACE\n",
    "\n",
    "# menu de seleção dos sinais, usado para adicionar ou remover conexões:\n",
    "def menu_selecao():\n",
    "    pass\n",
    "\n",
    "# exibe menu principal:\n",
    "def exibe_menu():\n",
    "    os.system('cls')\n",
    "\n",
    "    print('SISTEMAS DE CONTROLE')\n",
    "    print('''\n",
    "        1 - Selecionar Sinal\n",
    "        2 - Listar Ganhos do Caminhos à Frente\n",
    "        3 - Listar Ganhos de Laço\n",
    "        4 - Desenhar Diagrama\n",
    "        5 - Calcular FT\n",
    "        6 - Encerrar\n",
    "    ''');\n",
    "    return int(input('\\nEscolha uma opção: '));\n"
   ]
  },
  {
   "cell_type": "code",
   "execution_count": null,
   "metadata": {},
   "outputs": [],
   "source": [
    "# ==================================================\n",
    "# EXECUÇÃO DO PROGRAMA\n",
    "\n",
    "print('\\nCriando Sistema...'); time.sleep(0.2)\n",
    "sistema = Sistema(matriz_de_fluxo)\n",
    "\n",
    "opc = 0\n",
    "while True:\n",
    "    opc = exibe_menu()\n",
    "    \n",
    "    if opc == 1:\n",
    "        print('Abrindo Lista de Sinais...'); time.sleep(0.2)\n",
    "        os.system('cls')        \n",
    "        menu_selecao()\n",
    "        input()\n",
    "\n",
    "    if opc == 2:\n",
    "        print('Listando Ganhos do Caminho à Frente...'); time.sleep(0.2)\n",
    "        os.system('cls')\n",
    "        sistema.lista_caminhos()\n",
    "        input()\n",
    "    \n",
    "    if opc == 3:\n",
    "        print('Listando Ganhos de Laço...'); time.sleep(0.2)\n",
    "        os.system('cls')\n",
    "        sistema.lista_lacos()\n",
    "        input()\n",
    "\n",
    "    if opc == 4:\n",
    "        print('Desenhando Diagrama...'); time.sleep(0.2)\n",
    "        os.system('cls')\n",
    "        sistema.desenha_diagrama()\n",
    "        input()\n",
    "\n",
    "    if opc == 5:\n",
    "        print('Calculando Função de Transferência...'); time.sleep(0.2)\n",
    "        os.system('cls')\n",
    "        sistema.calcula_FT()\n",
    "        input()\n",
    "\n",
    "    if opc == 6:\n",
    "        print('Encerrando Programa...'); time.sleep(0.2)\n",
    "        os.system('cls')\n",
    "        break"
   ]
  }
 ],
 "metadata": {
  "kernelspec": {
   "display_name": "Python 3",
   "language": "python",
   "name": "python3"
  },
  "language_info": {
   "codemirror_mode": {
    "name": "ipython",
    "version": 3
   },
   "file_extension": ".py",
   "mimetype": "text/x-python",
   "name": "python",
   "nbconvert_exporter": "python",
   "pygments_lexer": "ipython3",
   "version": "3.12.1"
  }
 },
 "nbformat": 4,
 "nbformat_minor": 2
}
