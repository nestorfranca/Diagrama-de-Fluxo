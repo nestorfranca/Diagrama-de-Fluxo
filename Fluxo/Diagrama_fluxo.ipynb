{
 "cells": [
  {
   "cell_type": "markdown",
   "metadata": {},
   "source": [
    "Baixando as bibliotecas "
   ]
  },
  {
   "cell_type": "code",
   "execution_count": 1,
   "metadata": {},
   "outputs": [
    {
     "name": "stdout",
     "output_type": "stream",
     "text": [
      "Requirement already satisfied: sympy in c:\\users\\gusta\\appdata\\local\\programs\\python\\python311\\lib\\site-packages (1.13.3)\n",
      "Requirement already satisfied: mpmath<1.4,>=1.1.0 in c:\\users\\gusta\\appdata\\local\\programs\\python\\python311\\lib\\site-packages (from sympy) (1.3.0)\n",
      "Note: you may need to restart the kernel to use updated packages.\n"
     ]
    }
   ],
   "source": [
    "%pip install sympy"
   ]
  },
  {
   "cell_type": "markdown",
   "metadata": {},
   "source": [
    "Importando as bibliotecas necessarias "
   ]
  },
  {
   "cell_type": "code",
   "execution_count": 2,
   "metadata": {},
   "outputs": [],
   "source": [
    "from sympy import symbols, Matrix, pretty\n",
    "import os, time\n",
    "from sistema import *"
   ]
  },
  {
   "cell_type": "code",
   "execution_count": 3,
   "metadata": {},
   "outputs": [],
   "source": [
    "# Definindo variáveis simbólicas:\n",
    "s = symbols('s')\n",
    "\n",
    "# determinando quantidade de sinais:\n",
    "num_sinais = int(input('\\nO Sistema possui quantos sinais? '))"
   ]
  },
  {
   "cell_type": "code",
   "execution_count": 4,
   "metadata": {},
   "outputs": [],
   "source": [
    "# ==================================================\n",
    "# FUNÇÕES DE INTERFACE\n",
    "\n",
    "# exibe menu principal:\n",
    "def exibe_menu():\n",
    "    os.system('cls')\n",
    "\n",
    "    print('SISTEMAS DE CONTROLE')\n",
    "    print('''\n",
    "1 - Ver Status\n",
    "2 - Listar Ganhos do Caminhos à Frente\n",
    "3 - Listar Ganhos de Laço\n",
    "4 - Calcular FT\n",
    "5 - Encerrar\n",
    "    ''');\n",
    "\n",
    "    return int(input('\\nEscolha uma opção: '));"
   ]
  },
  {
   "cell_type": "code",
   "execution_count": 5,
   "metadata": {},
   "outputs": [
    {
     "name": "stdout",
     "output_type": "stream",
     "text": [
      "\n",
      "Criando Sistema...\n",
      "Para adicionar novas conexões, utilize a simbologia a seguir:\n",
      "\n",
      "    1>2: indica um caminho do sinal 1 para o sinal 2;\n",
      "    2>1: indica um laço de realimentação do sinal 2 para o sinal 1.\n",
      "\n",
      "\n",
      "SISTEMAS DE CONTROLE\n",
      "\n",
      "1 - Ver Status\n",
      "2 - Listar Ganhos do Caminhos à Frente\n",
      "3 - Listar Ganhos de Laço\n",
      "4 - Calcular FT\n",
      "5 - Encerrar\n",
      "    \n",
      "Vendo Status...\n",
      "INFORMAÇÕES DO SISTEMA\n",
      "              \n",
      "Sinais: ['R', 'V2', 'V3', 'V4', 'V5', 'V6', 'C']\n",
      "Caminhos: []\n",
      "Laços: [[1, 2, 3, 1], [2, 3, 2], [4, 5, 4]]\n",
      "\n",
      "Matriz:\n",
      "\n",
      "⎡0  1  0  0  0  0  0⎤\n",
      "⎢                   ⎥\n",
      "⎢0  0  1  0  0  0  0⎥\n",
      "⎢                   ⎥\n",
      "⎢0  0  0  1  1  0  0⎥\n",
      "⎢                   ⎥\n",
      "⎢0  1  1  0  1  0  0⎥\n",
      "⎢                   ⎥\n",
      "⎢0  0  0  0  0  1  0⎥\n",
      "⎢                   ⎥\n",
      "⎢0  0  0  0  1  0  0⎥\n",
      "⎢                   ⎥\n",
      "⎣0  0  0  0  0  0  0⎦\n",
      "        \n",
      "SISTEMAS DE CONTROLE\n",
      "\n",
      "1 - Ver Status\n",
      "2 - Listar Ganhos do Caminhos à Frente\n",
      "3 - Listar Ganhos de Laço\n",
      "4 - Calcular FT\n",
      "5 - Encerrar\n",
      "    \n"
     ]
    },
    {
     "ename": "ValueError",
     "evalue": "invalid literal for int() with base 10: ''",
     "output_type": "error",
     "traceback": [
      "\u001b[1;31m---------------------------------------------------------------------------\u001b[0m",
      "\u001b[1;31mValueError\u001b[0m                                Traceback (most recent call last)",
      "Cell \u001b[1;32mIn[5], line 24\u001b[0m\n\u001b[0;32m     22\u001b[0m opc \u001b[38;5;241m=\u001b[39m \u001b[38;5;241m0\u001b[39m\n\u001b[0;32m     23\u001b[0m \u001b[38;5;28;01mwhile\u001b[39;00m \u001b[38;5;28;01mTrue\u001b[39;00m:\n\u001b[1;32m---> 24\u001b[0m     opc \u001b[38;5;241m=\u001b[39m \u001b[43mexibe_menu\u001b[49m\u001b[43m(\u001b[49m\u001b[43m)\u001b[49m\n\u001b[0;32m     26\u001b[0m     \u001b[38;5;28;01mif\u001b[39;00m opc \u001b[38;5;241m==\u001b[39m \u001b[38;5;241m1\u001b[39m:\n\u001b[0;32m     27\u001b[0m         \u001b[38;5;28mprint\u001b[39m(\u001b[38;5;124m'\u001b[39m\u001b[38;5;124mVendo Status...\u001b[39m\u001b[38;5;124m'\u001b[39m); time\u001b[38;5;241m.\u001b[39msleep(\u001b[38;5;241m0.2\u001b[39m)\n",
      "Cell \u001b[1;32mIn[4], line 17\u001b[0m, in \u001b[0;36mexibe_menu\u001b[1;34m()\u001b[0m\n\u001b[0;32m      8\u001b[0m     \u001b[38;5;28mprint\u001b[39m(\u001b[38;5;124m'\u001b[39m\u001b[38;5;124mSISTEMAS DE CONTROLE\u001b[39m\u001b[38;5;124m'\u001b[39m)\n\u001b[0;32m      9\u001b[0m     \u001b[38;5;28mprint\u001b[39m(\u001b[38;5;124m'''\u001b[39m\n\u001b[0;32m     10\u001b[0m \u001b[38;5;124m1 - Ver Status\u001b[39m\n\u001b[0;32m     11\u001b[0m \u001b[38;5;124m2 - Listar Ganhos do Caminhos à Frente\u001b[39m\n\u001b[1;32m   (...)\u001b[0m\n\u001b[0;32m     14\u001b[0m \u001b[38;5;124m5 - Encerrar\u001b[39m\n\u001b[0;32m     15\u001b[0m \u001b[38;5;124m    \u001b[39m\u001b[38;5;124m'''\u001b[39m);\n\u001b[1;32m---> 17\u001b[0m     \u001b[38;5;28;01mreturn\u001b[39;00m \u001b[38;5;28;43mint\u001b[39;49m\u001b[43m(\u001b[49m\u001b[38;5;28;43minput\u001b[39;49m\u001b[43m(\u001b[49m\u001b[38;5;124;43m'\u001b[39;49m\u001b[38;5;130;43;01m\\n\u001b[39;49;00m\u001b[38;5;124;43mEscolha uma opção: \u001b[39;49m\u001b[38;5;124;43m'\u001b[39;49m\u001b[43m)\u001b[49m\u001b[43m)\u001b[49m\n",
      "\u001b[1;31mValueError\u001b[0m: invalid literal for int() with base 10: ''"
     ]
    }
   ],
   "source": [
    "# ==================================================\n",
    "# EXECUÇÃO DO PROGRAMA\n",
    "\n",
    "print('\\nCriando Sistema...'); time.sleep(0.2)\n",
    "os.system('cls')\n",
    "\n",
    "sistema = Sistema(num_sinais)\n",
    "\n",
    "print('Para adicionar novas conexões, utilize a simbologia a seguir:')\n",
    "print('''\n",
    "    1>2: indica um caminho do sinal 1 para o sinal 2;\n",
    "    2>1: indica um laço de realimentação do sinal 2 para o sinal 1.\n",
    "\n",
    "''')\n",
    "\n",
    "conex = input('Insira as conexões a serem adicionadas, separadas por vírgula:\\n')\n",
    "\n",
    "sistema.adiciona_conexao(conex)\n",
    "\n",
    "sistema.setup()\n",
    "\n",
    "opc = 0\n",
    "while True:\n",
    "    opc = exibe_menu()\n",
    "    \n",
    "    if opc == 1:\n",
    "        print('Vendo Status...'); time.sleep(0.2)\n",
    "        os.system('cls')\n",
    "        sistema.status()\n",
    "        input()\n",
    "\n",
    "    if opc == 2:\n",
    "        print('Listando Ganhos do Caminho à Frente...'); time.sleep(0.2)\n",
    "        os.system('cls')\n",
    "        sistema.lista_caminhos()\n",
    "        input()\n",
    "    \n",
    "    if opc == 3:\n",
    "        print('Listando Ganhos de Laço...'); time.sleep(0.2)\n",
    "        os.system('cls')\n",
    "        sistema.lista_lacos()\n",
    "        input()\n",
    "\n",
    "    if opc == 4:\n",
    "        print('Calculando Função de Transferência...'); time.sleep(0.2)\n",
    "        os.system('cls')\n",
    "        sistema.calcula_FT()\n",
    "        input()\n",
    "\n",
    "    if opc == 5:\n",
    "        print('Encerrando Programa...'); time.sleep(0.2)\n",
    "        os.system('cls')\n",
    "        break\n",
    "\n",
    "\n"
   ]
  }
 ],
 "metadata": {
  "kernelspec": {
   "display_name": "Python 3",
   "language": "python",
   "name": "python3"
  },
  "language_info": {
   "codemirror_mode": {
    "name": "ipython",
    "version": 3
   },
   "file_extension": ".py",
   "mimetype": "text/x-python",
   "name": "python",
   "nbconvert_exporter": "python",
   "pygments_lexer": "ipython3",
   "version": "3.11.4"
  }
 },
 "nbformat": 4,
 "nbformat_minor": 2
}
