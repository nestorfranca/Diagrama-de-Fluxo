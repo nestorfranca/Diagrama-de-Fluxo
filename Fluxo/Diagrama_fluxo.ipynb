{
 "cells": [
  {
   "cell_type": "markdown",
   "metadata": {},
   "source": [
    "Baixando as bibliotecas "
   ]
  },
  {
   "cell_type": "code",
   "execution_count": 6,
   "metadata": {},
   "outputs": [
    {
     "name": "stdout",
     "output_type": "stream",
     "text": [
      "Requirement already satisfied: sympy in c:\\users\\gusta\\appdata\\local\\programs\\python\\python311\\lib\\site-packages (1.13.3)\n",
      "Requirement already satisfied: mpmath<1.4,>=1.1.0 in c:\\users\\gusta\\appdata\\local\\programs\\python\\python311\\lib\\site-packages (from sympy) (1.3.0)\n",
      "Note: you may need to restart the kernel to use updated packages.\n"
     ]
    }
   ],
   "source": [
    "%pip install sympy"
   ]
  },
  {
   "cell_type": "markdown",
   "metadata": {},
   "source": [
    "Importando as bibliotecas necessarias "
   ]
  },
  {
   "cell_type": "code",
   "execution_count": 7,
   "metadata": {},
   "outputs": [],
   "source": [
    "from sympy import symbols, Matrix, pretty\n",
    "import os, time\n",
    "from sistema import *"
   ]
  },
  {
   "cell_type": "code",
   "execution_count": 8,
   "metadata": {},
   "outputs": [],
   "source": [
    "# Definindo variáveis simbólicas:\n",
    "s = symbols('s')\n",
    "\n",
    "# determinando quantidade de sinais:\n",
    "num_sinais = int(input('\\nO Sistema possui quantos sinais? '))"
   ]
  },
  {
   "cell_type": "code",
   "execution_count": 9,
   "metadata": {},
   "outputs": [],
   "source": [
    "# ==================================================\n",
    "# FUNÇÕES DE INTERFACE\n",
    "\n",
    "# exibe menu principal:\n",
    "def exibe_menu():\n",
    "    os.system('cls')\n",
    "\n",
    "    print('SISTEMAS DE CONTROLE')\n",
    "    print('''\n",
    "1 - Ver Status\n",
    "2 - Listar Ganhos do Caminhos à Frente\n",
    "3 - Listar Ganhos de Laço\n",
    "4 - Calcular FT\n",
    "5 - Encerrar\n",
    "    ''');\n",
    "\n",
    "    return int(input('\\nEscolha uma opção: '));"
   ]
  },
  {
   "cell_type": "code",
   "execution_count": 10,
   "metadata": {},
   "outputs": [
    {
     "name": "stdout",
     "output_type": "stream",
     "text": [
      "\n",
      "Criando Sistema...\n"
     ]
    },
    {
     "ename": "NameError",
     "evalue": "name 'expande' is not defined",
     "output_type": "error",
     "traceback": [
      "\u001b[1;31m---------------------------------------------------------------------------\u001b[0m",
      "\u001b[1;31mNameError\u001b[0m                                 Traceback (most recent call last)",
      "Cell \u001b[1;32mIn[10], line 7\u001b[0m\n\u001b[0;32m      4\u001b[0m \u001b[38;5;28mprint\u001b[39m(\u001b[38;5;124m'\u001b[39m\u001b[38;5;130;01m\\n\u001b[39;00m\u001b[38;5;124mCriando Sistema...\u001b[39m\u001b[38;5;124m'\u001b[39m); time\u001b[38;5;241m.\u001b[39msleep(\u001b[38;5;241m0.2\u001b[39m)\n\u001b[0;32m      5\u001b[0m os\u001b[38;5;241m.\u001b[39msystem(\u001b[38;5;124m'\u001b[39m\u001b[38;5;124mcls\u001b[39m\u001b[38;5;124m'\u001b[39m)\n\u001b[1;32m----> 7\u001b[0m sistema \u001b[38;5;241m=\u001b[39m \u001b[43mSistema\u001b[49m\u001b[43m(\u001b[49m\u001b[43mnum_sinais\u001b[49m\u001b[43m)\u001b[49m\n\u001b[0;32m      9\u001b[0m \u001b[38;5;28mprint\u001b[39m(\u001b[38;5;124m'\u001b[39m\u001b[38;5;124mPara adicionar novas conexões, utilize a simbologia a seguir:\u001b[39m\u001b[38;5;124m'\u001b[39m)\n\u001b[0;32m     10\u001b[0m \u001b[38;5;28mprint\u001b[39m(\u001b[38;5;124m'''\u001b[39m\n\u001b[0;32m     11\u001b[0m \u001b[38;5;124m    1>2: indica um caminho do sinal 1 para o sinal 2;\u001b[39m\n\u001b[0;32m     12\u001b[0m \u001b[38;5;124m    2>1: indica um laço de realimentação do sinal 2 para o sinal 1.\u001b[39m\n\u001b[0;32m     13\u001b[0m \n\u001b[0;32m     14\u001b[0m \u001b[38;5;124m'''\u001b[39m)\n",
      "File \u001b[1;32md:\\Users\\gusta\\OneDrive\\Documentos\\GitHub\\Diagrama-de-Fluxo\\Fluxo\\sistema.py:20\u001b[0m, in \u001b[0;36mSistema.__init__\u001b[1;34m(self, num_sinais)\u001b[0m\n\u001b[0;32m     16\u001b[0m \u001b[38;5;28mself\u001b[39m\u001b[38;5;241m.\u001b[39mlacos \u001b[38;5;241m=\u001b[39m []\n\u001b[0;32m     18\u001b[0m \u001b[38;5;66;03m# definindo caminho unitário entre entrada e saída:\u001b[39;00m\n\u001b[0;32m     19\u001b[0m \u001b[38;5;66;03m# self.matriz[0, 1] = 1\u001b[39;00m\n\u001b[1;32m---> 20\u001b[0m \u001b[38;5;28;43mself\u001b[39;49m\u001b[38;5;241;43m.\u001b[39;49m\u001b[43msetup\u001b[49m\u001b[43m(\u001b[49m\u001b[43m)\u001b[49m\n",
      "File \u001b[1;32md:\\Users\\gusta\\OneDrive\\Documentos\\GitHub\\Diagrama-de-Fluxo\\Fluxo\\sistema.py:55\u001b[0m, in \u001b[0;36mSistema.setup\u001b[1;34m(self)\u001b[0m\n\u001b[0;32m     53\u001b[0m \u001b[38;5;28;01mdef\u001b[39;00m \u001b[38;5;21msetup\u001b[39m(\u001b[38;5;28mself\u001b[39m):\n\u001b[0;32m     54\u001b[0m     \u001b[38;5;28mself\u001b[39m\u001b[38;5;241m.\u001b[39matualiza_sinais()\n\u001b[1;32m---> 55\u001b[0m     \u001b[38;5;28;43mself\u001b[39;49m\u001b[38;5;241;43m.\u001b[39;49m\u001b[43matualiza_caminhos\u001b[49m\u001b[43m(\u001b[49m\u001b[43m)\u001b[49m\n\u001b[0;32m     56\u001b[0m     \u001b[38;5;28mself\u001b[39m\u001b[38;5;241m.\u001b[39matualiza_lacos()\n",
      "File \u001b[1;32md:\\Users\\gusta\\OneDrive\\Documentos\\GitHub\\Diagrama-de-Fluxo\\Fluxo\\sistema.py:39\u001b[0m, in \u001b[0;36mSistema.atualiza_caminhos\u001b[1;34m(self)\u001b[0m\n\u001b[0;32m     36\u001b[0m caminhos \u001b[38;5;241m=\u001b[39m []\n\u001b[0;32m     38\u001b[0m \u001b[38;5;66;03m# Começar a busca do nó 0\u001b[39;00m\n\u001b[1;32m---> 39\u001b[0m caminhos \u001b[38;5;241m=\u001b[39m \u001b[43mencontra_caminho\u001b[49m\u001b[43m(\u001b[49m\u001b[43mmatriz_up\u001b[49m\u001b[43m,\u001b[49m\u001b[43m \u001b[49m\u001b[43m[\u001b[49m\u001b[43m[\u001b[49m\u001b[38;5;241;43m0\u001b[39;49m\u001b[43m]\u001b[49m\u001b[43m]\u001b[49m\u001b[43m)\u001b[49m\n\u001b[0;32m     41\u001b[0m \u001b[38;5;28mself\u001b[39m\u001b[38;5;241m.\u001b[39mcaminhos \u001b[38;5;241m=\u001b[39m caminhos\n",
      "File \u001b[1;32md:\\Users\\gusta\\OneDrive\\Documentos\\GitHub\\Diagrama-de-Fluxo\\Fluxo\\sistema.py:207\u001b[0m, in \u001b[0;36mencontra_caminho\u001b[1;34m(mat, lista_init)\u001b[0m\n\u001b[0;32m    203\u001b[0m ult_vertice \u001b[38;5;241m=\u001b[39m candidato[\u001b[38;5;241m-\u001b[39m\u001b[38;5;241m1\u001b[39m]\n\u001b[0;32m    205\u001b[0m novos_caminhos \u001b[38;5;241m=\u001b[39m []\n\u001b[1;32m--> 207\u001b[0m novos_caminhos \u001b[38;5;241m=\u001b[39m \u001b[43mexpande\u001b[49m(ult_vertice)\n\u001b[0;32m    208\u001b[0m \u001b[38;5;28;01mfor\u001b[39;00m i \u001b[38;5;129;01min\u001b[39;00m \u001b[38;5;28mrange\u001b[39m(ult_vertice, mat\u001b[38;5;241m.\u001b[39mcols):\n\u001b[0;32m    210\u001b[0m     \u001b[38;5;28;01mif\u001b[39;00m mat[ult_vertice, i] \u001b[38;5;241m!=\u001b[39m \u001b[38;5;241m0\u001b[39m:\n\u001b[0;32m    211\u001b[0m         \u001b[38;5;66;03m# adiciona o nova combinação a lista de novas caminhos:\u001b[39;00m\n",
      "\u001b[1;31mNameError\u001b[0m: name 'expande' is not defined"
     ]
    }
   ],
   "source": [
    "# ==================================================\n",
    "# EXECUÇÃO DO PROGRAMA\n",
    "\n",
    "print('\\nCriando Sistema...'); time.sleep(0.2)\n",
    "os.system('cls')\n",
    "\n",
    "sistema = Sistema(num_sinais)\n",
    "\n",
    "print('Para adicionar novas conexões, utilize a simbologia a seguir:')\n",
    "print('''\n",
    "    1>2: indica um caminho do sinal 1 para o sinal 2;\n",
    "    2>1: indica um laço de realimentação do sinal 2 para o sinal 1.\n",
    "\n",
    "''')\n",
    "\n",
    "conex = input('Insira as conexões a serem adicionadas, separadas por vírgula:\\n')\n",
    "\n",
    "sistema.adiciona_conexao(conex)\n",
    "\n",
    "sistema.setup()\n",
    "\n",
    "opc = 0\n",
    "while True:\n",
    "    opc = exibe_menu()\n",
    "    \n",
    "    if opc == 1:\n",
    "        print('Vendo Status...'); time.sleep(0.2)\n",
    "        os.system('cls')\n",
    "        sistema.status()\n",
    "        input()\n",
    "\n",
    "    if opc == 2:\n",
    "        print('Listando Ganhos do Caminho à Frente...'); time.sleep(0.2)\n",
    "        os.system('cls')\n",
    "        sistema.lista_caminhos()\n",
    "        input()\n",
    "    \n",
    "    if opc == 3:\n",
    "        print('Listando Ganhos de Laço...'); time.sleep(0.2)\n",
    "        os.system('cls')\n",
    "        sistema.lista_lacos()\n",
    "        input()\n",
    "\n",
    "    if opc == 4:\n",
    "        print('Calculando Função de Transferência...'); time.sleep(0.2)\n",
    "        os.system('cls')\n",
    "        sistema.calcula_FT()\n",
    "        input()\n",
    "\n",
    "    if opc == 5:\n",
    "        print('Encerrando Programa...'); time.sleep(0.2)\n",
    "        os.system('cls')\n",
    "        break\n",
    "\n",
    "\n"
   ]
  }
 ],
 "metadata": {
  "kernelspec": {
   "display_name": "Python 3",
   "language": "python",
   "name": "python3"
  },
  "language_info": {
   "codemirror_mode": {
    "name": "ipython",
    "version": 3
   },
   "file_extension": ".py",
   "mimetype": "text/x-python",
   "name": "python",
   "nbconvert_exporter": "python",
   "pygments_lexer": "ipython3",
   "version": "3.11.4"
  }
 },
 "nbformat": 4,
 "nbformat_minor": 2
}
