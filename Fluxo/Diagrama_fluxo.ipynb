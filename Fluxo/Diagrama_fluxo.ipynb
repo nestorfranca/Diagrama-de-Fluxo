{
 "cells": [
  {
   "cell_type": "markdown",
   "metadata": {},
   "source": [
    "Baixando as bibliotecas "
   ]
  },
  {
   "cell_type": "code",
   "execution_count": 32,
   "metadata": {},
   "outputs": [
    {
     "name": "stdout",
     "output_type": "stream",
     "text": [
      "Requirement already satisfied: sympy in c:\\users\\gusta\\appdata\\local\\programs\\python\\python311\\lib\\site-packages (1.13.3)\n",
      "Requirement already satisfied: mpmath<1.4,>=1.1.0 in c:\\users\\gusta\\appdata\\local\\programs\\python\\python311\\lib\\site-packages (from sympy) (1.3.0)\n",
      "Note: you may need to restart the kernel to use updated packages.\n"
     ]
    }
   ],
   "source": [
    "%pip install sympy"
   ]
  },
  {
   "cell_type": "markdown",
   "metadata": {},
   "source": [
    "Importando as bibliotecas necessarias "
   ]
  },
  {
   "cell_type": "code",
   "execution_count": 39,
   "metadata": {},
   "outputs": [],
   "source": [
    "from sympy import symbols, Matrix, pretty\n",
    "import os, time\n",
    "from sistema import *"
   ]
  },
  {
   "cell_type": "code",
   "execution_count": 40,
   "metadata": {},
   "outputs": [],
   "source": [
    "# Definindo variáveis simbólicas:\n",
    "s = symbols('s')\n",
    "\n",
    "# criando matriz de sinais e sistemas:\n",
    "# matriz_de_fluxo = []\n",
    "# num_sinais = int(input('\\nO Sistema possui quantos sinais? '))\n",
    "# matriz_de_fluxo = Matrix.zeros(num_sinais, num_sinais) #matriz quadrada"
   ]
  },
  {
   "cell_type": "code",
   "execution_count": 41,
   "metadata": {},
   "outputs": [],
   "source": [
    "# ==================================================\n",
    "# FUNÇÕES DE INTERFACE\n",
    "\n",
    "# menu de seleção dos sinais, usado para adicionar ou remover conexões:\n",
    "def menu_sinal():\n",
    "    os.system('cls')\n",
    "\n",
    "    print('CONFIGURAÇÃO DO SINAL')\n",
    "    print('''\n",
    "1 - Adicionar Conexão\n",
    "2 - Editar Conexões\n",
    "3 - Remover Conexão\n",
    "4 - Voltar\n",
    "    ''');\n",
    "\n",
    "    return int(input('\\nEscolha uma opção: '));\n",
    "\n",
    "# exibe menu principal:\n",
    "def exibe_menu():\n",
    "    os.system('cls')\n",
    "\n",
    "    print('SISTEMAS DE CONTROLE')\n",
    "    print('''\n",
    "1 - Selecionar Sinal\n",
    "2 - Adicionar Sinal\n",
    "3 - Adicionar Conexão\n",
    "4 - Listar Ganhos do Caminhos à Frente\n",
    "5 - Listar Ganhos de Laço\n",
    "6 - Desenhar Diagrama\n",
    "7 - Calcular FT\n",
    "8 - Encerrar\n",
    "    ''');\n",
    "\n",
    "    return int(input('\\nEscolha uma opção: '));\n",
    "\n"
   ]
  },
  {
   "cell_type": "code",
   "execution_count": null,
   "metadata": {},
   "outputs": [],
   "source": [
    "# ==================================================\n",
    "# EXECUÇÃO DO PROGRAMA\n",
    "\n",
    "print('\\nCriando Sistema...'); time.sleep(0.2)\n",
    "sistema = Sistema()\n",
    "\n",
    "opc = 0\n",
    "while True:\n",
    "    opc = exibe_menu()\n",
    "    \n",
    "    if opc == 1:\n",
    "        print('Abrindo Lista de Sinais...'); time.sleep(0.2)\n",
    "        os.system('cls')        \n",
    "        # sistema.adiciona_conexao(1, 2)\n",
    "        sistema.listar_sinais()\n",
    "        # opc2 = menu_sinal()\n",
    "        input()\n",
    "\n",
    "    if opc == 2:\n",
    "        print('Adicionando Sinal...'); time.sleep(0.2)\n",
    "        os.system('cls')\n",
    "        sistema.adiciona_sinal(1)      \n",
    "        input()\n",
    "    \n",
    "    if opc == 3:\n",
    "        print('Adicionando Conexão...'); time.sleep(0.2)\n",
    "        os.system('cls')\n",
    "\n",
    "        print('''\n",
    "Para adicionar novas conexões, utilize a simbologia a seguir:\n",
    "\n",
    "    1>2: indica um caminho do sinal 1 para o sinal 2;\n",
    "    2>1: indica um laço de realimentação do sinal 2 para o sinal 1.\n",
    "\n",
    "        ''')\n",
    "        conex = input('Insira as conexões a serem adicionadas, separadas por vírgula:\\n')\n",
    "        sistema.adiciona_conexao(conex)      \n",
    "        input()\n",
    "    \n",
    "    if opc == 4:\n",
    "        print('Listando Ganhos do Caminho à Frente...'); time.sleep(0.2)\n",
    "        os.system('cls')\n",
    "        sistema.lista_caminhos()\n",
    "        input()\n",
    "    \n",
    "    if opc == 5:\n",
    "        print('Listando Ganhos de Laço...'); time.sleep(0.2)\n",
    "        os.system('cls')\n",
    "        sistema.lista_lacos()\n",
    "        input()\n",
    "\n",
    "    if opc == 6:\n",
    "        print('Desenhando Diagrama...'); time.sleep(0.2)\n",
    "        os.system('cls')\n",
    "        sistema.desenha_diagrama()\n",
    "        input()\n",
    "\n",
    "    if opc == 7:\n",
    "        print('Calculando Função de Transferência...'); time.sleep(0.2)\n",
    "        os.system('cls')\n",
    "        sistema.calcula_FT()\n",
    "        input()\n",
    "\n",
    "    if opc == 8:\n",
    "        print('Encerrando Programa...'); time.sleep(0.2)\n",
    "        os.system('cls')\n",
    "        break"
   ]
  }
 ],
 "metadata": {
  "kernelspec": {
   "display_name": "Python 3",
   "language": "python",
   "name": "python3"
  },
  "language_info": {
   "codemirror_mode": {
    "name": "ipython",
    "version": 3
   },
   "file_extension": ".py",
   "mimetype": "text/x-python",
   "name": "python",
   "nbconvert_exporter": "python",
   "pygments_lexer": "ipython3",
   "version": "3.11.4"
  }
 },
 "nbformat": 4,
 "nbformat_minor": 2
}
