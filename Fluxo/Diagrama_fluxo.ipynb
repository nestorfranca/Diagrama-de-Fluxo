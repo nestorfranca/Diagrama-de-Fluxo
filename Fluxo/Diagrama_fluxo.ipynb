{
 "cells": [
  {
   "cell_type": "markdown",
   "metadata": {},
   "source": [
    "# SISTEMAS DE CONTROLE I"
   ]
  },
  {
   "cell_type": "markdown",
   "metadata": {},
   "source": [
    "Esse programa é um protótipo desenvolvido para realizar\n",
    "a montagem dinâmica e o cálculo de um sistema de controle."
   ]
  },
  {
   "cell_type": "markdown",
   "metadata": {},
   "source": [
    "## Representação do Sistema"
   ]
  },
  {
   "cell_type": "markdown",
   "metadata": {},
   "source": [
    "Podemos representar um sistema de controle através do método de Diagrama de Fluxo.\n",
    "\n",
    "Nesse método, os sinais são representados por vértices, que funcionam como pontos de conexão. E os sistemas, são conpreendidos pelas conexões entre dois sinais."
   ]
  },
  {
   "cell_type": "markdown",
   "metadata": {},
   "source": [
    "<center> \n",
    "<img alt=\"Diagrama de Fluxo de Sinal\" src=\"../img/representacao.png\">\n",
    "</center>"
   ]
  },
  {
   "cell_type": "markdown",
   "metadata": {},
   "source": [
    "Esse método é muito similar a representação de grafos. \n",
    "\n",
    "Dessa forma, assim como em grafos, podemos facilmente representar computacionalmente utilizando uma matriz de adjacências.\n",
    "Com a matriz de adjacências, podemos indicar facilmente as conexões existentes entre vértices da matriz, através de um valor na coordenada $(i, j)$, onde $i$ é o vértice de origem e $j$ o vértice de destino. E esse valor indica quantas conexões existem entre esses esses vértices.\n",
    "\n",
    "<center><img src=\"../img/sistema_exemplo.png\"></center>\n",
    "\n",
    "Como podemos ver no exemplo acima, temos um sistema de controle composto por 3 sinais e 3 sistemas. E podemos representá-lo através pela matriz de adjacências abaixo:\n",
    "\n",
    "$$\n",
    "\\begin{bmatrix}\n",
    "0 & 1 & 0 \\\\\n",
    "0 & 0 & 1 \\\\\n",
    "0 & 1 & 0 \n",
    "\\end{bmatrix}\n",
    "$$\n",
    "\n",
    "A matriz possui 3 vértices, e há 3 valores não-nulos dentro dela, indicando as conexões existentes no sistema de controle. Considerando que os vértices são R(s), E(s) e C(s), respectivamente, podemos identificar as seguintes conexões:\n",
    "\n",
    "- R(s) se conecta a E(s);\n",
    "- E(s) se conecta a C(s);\n",
    "- C(s) se conecta a E(s);\n",
    "\n",
    "Portanto, a matriz nos permite armazenar o estado de nosso sistema perfeitamente.\n",
    "\n"
   ]
  },
  {
   "cell_type": "markdown",
   "metadata": {},
   "source": [
    "## Identificando Caminhos à Frente"
   ]
  },
  {
   "cell_type": "markdown",
   "metadata": {},
   "source": [
    "aa"
   ]
  },
  {
   "cell_type": "markdown",
   "metadata": {},
   "source": [
    "## Identificando Laços"
   ]
  },
  {
   "cell_type": "markdown",
   "metadata": {},
   "source": [
    "aa"
   ]
  },
  {
   "cell_type": "markdown",
   "metadata": {},
   "source": [
    "## Calculando os Ganhos"
   ]
  },
  {
   "cell_type": "markdown",
   "metadata": {},
   "source": [
    "aa"
   ]
  },
  {
   "cell_type": "markdown",
   "metadata": {},
   "source": [
    "### Ganhos de Caminho à Frente:"
   ]
  },
  {
   "cell_type": "markdown",
   "metadata": {},
   "source": [
    "aa"
   ]
  },
  {
   "cell_type": "markdown",
   "metadata": {},
   "source": [
    "### Ganhos de Laço:"
   ]
  },
  {
   "cell_type": "markdown",
   "metadata": {},
   "source": [
    "aa"
   ]
  },
  {
   "cell_type": "markdown",
   "metadata": {},
   "source": [
    "### Ganhos de Laço que não se Encostam:"
   ]
  },
  {
   "cell_type": "markdown",
   "metadata": {},
   "source": [
    "aa"
   ]
  },
  {
   "cell_type": "markdown",
   "metadata": {},
   "source": [
    "## Calculando a Função de Transferência Equivalente"
   ]
  },
  {
   "cell_type": "markdown",
   "metadata": {},
   "source": [
    "aa"
   ]
  },
  {
   "cell_type": "markdown",
   "metadata": {},
   "source": [
    "### $\\Delta$:"
   ]
  },
  {
   "cell_type": "markdown",
   "metadata": {},
   "source": [
    "aa"
   ]
  },
  {
   "cell_type": "markdown",
   "metadata": {},
   "source": [
    "### $\\Delta_k$:"
   ]
  },
  {
   "cell_type": "markdown",
   "metadata": {},
   "source": [
    "aa"
   ]
  },
  {
   "cell_type": "markdown",
   "metadata": {},
   "source": [
    "### Função de Transferência:"
   ]
  },
  {
   "cell_type": "markdown",
   "metadata": {},
   "source": [
    "$${\\cfrac{\\sum_{k}T_k\\Delta_k}{\\Delta}}$$"
   ]
  },
  {
   "cell_type": "markdown",
   "metadata": {},
   "source": [
    "## Baixando as bibliotecas "
   ]
  },
  {
   "cell_type": "code",
   "execution_count": 1,
   "metadata": {},
   "outputs": [
    {
     "name": "stdout",
     "output_type": "stream",
     "text": [
      "Requirement already satisfied: sympy in c:\\users\\gusta\\appdata\\local\\programs\\python\\python311\\lib\\site-packages (1.13.3)\n",
      "Requirement already satisfied: mpmath<1.4,>=1.1.0 in c:\\users\\gusta\\appdata\\local\\programs\\python\\python311\\lib\\site-packages (from sympy) (1.3.0)\n",
      "Note: you may need to restart the kernel to use updated packages.\n"
     ]
    }
   ],
   "source": [
    "%pip install sympy"
   ]
  },
  {
   "cell_type": "markdown",
   "metadata": {},
   "source": [
    "## Importando as bibliotecas necessarias "
   ]
  },
  {
   "cell_type": "code",
   "execution_count": 2,
   "metadata": {},
   "outputs": [],
   "source": [
    "from sympy import symbols, Matrix, pretty\n",
    "import os, time\n",
    "from sistema import *"
   ]
  },
  {
   "cell_type": "markdown",
   "metadata": {},
   "source": [
    "## Execução do Programa"
   ]
  },
  {
   "cell_type": "code",
   "execution_count": 3,
   "metadata": {},
   "outputs": [],
   "source": [
    "# Definindo variáveis simbólicas:\n",
    "s = symbols('s')\n",
    "\n",
    "# determinando quantidade de sinais:\n",
    "num_sinais = int(input('\\nO Sistema possui quantos sinais? '))"
   ]
  },
  {
   "cell_type": "code",
   "execution_count": 4,
   "metadata": {},
   "outputs": [],
   "source": [
    "# ==================================================\n",
    "# FUNÇÕES DE INTERFACE\n",
    "\n",
    "# exibe menu principal:\n",
    "def exibe_menu():\n",
    "    os.system('cls')\n",
    "\n",
    "    print('SISTEMAS DE CONTROLE')\n",
    "    print('''\n",
    "1 - Ver Status\n",
    "2 - Adicionar Ganhos\n",
    "3 - Listar Ganhos do Caminhos à Frente\n",
    "4 - Listar Ganhos de Laço\n",
    "5 - Calcular FT\n",
    "6 - Encerrar\n",
    "    ''');\n",
    "\n",
    "    resp = input('\\nEscolha uma opção: ')\n",
    "    return int(resp) if resp.isnumeric() else 0;\n"
   ]
  },
  {
   "cell_type": "code",
   "execution_count": 5,
   "metadata": {},
   "outputs": [
    {
     "name": "stdout",
     "output_type": "stream",
     "text": [
      "\n",
      "Criando Sistema...\n",
      "Para adicionar novas conexões, utilize a simbologia a seguir:\n",
      "\n",
      "    R>V1: indica um caminho do sinal da entrada R para o sinal V1;\n",
      "    V3>V1: indica um laço de realimentação do sinal V3 para o sinal de entrada V1.\n",
      "\n",
      "\n",
      "SISTEMAS DE CONTROLE\n",
      "\n",
      "1 - Ver Status\n",
      "2 - Adicionar Ganhos\n",
      "3 - Listar Ganhos do Caminhos à Frente\n",
      "4 - Listar Ganhos de Laço\n",
      "5 - Calcular FT\n",
      "6 - Encerrar\n",
      "    \n",
      "Calculando Função de Transferência...\n",
      "FUNÇÃO TRANSFERÊNCIA EQUIVALENTE:\n",
      "\n",
      "INDETERMINADO! Delta igual a Zero.\n",
      "SISTEMAS DE CONTROLE\n",
      "\n",
      "1 - Ver Status\n",
      "2 - Adicionar Ganhos\n",
      "3 - Listar Ganhos do Caminhos à Frente\n",
      "4 - Listar Ganhos de Laço\n",
      "5 - Calcular FT\n",
      "6 - Encerrar\n",
      "    \n",
      "Opção Inválida...\n",
      "SISTEMAS DE CONTROLE\n",
      "\n",
      "1 - Ver Status\n",
      "2 - Adicionar Ganhos\n",
      "3 - Listar Ganhos do Caminhos à Frente\n",
      "4 - Listar Ganhos de Laço\n",
      "5 - Calcular FT\n",
      "6 - Encerrar\n",
      "    \n",
      "Opção Inválida...\n",
      "SISTEMAS DE CONTROLE\n",
      "\n",
      "1 - Ver Status\n",
      "2 - Adicionar Ganhos\n",
      "3 - Listar Ganhos do Caminhos à Frente\n",
      "4 - Listar Ganhos de Laço\n",
      "5 - Calcular FT\n",
      "6 - Encerrar\n",
      "    \n",
      "Opção Inválida...\n",
      "SISTEMAS DE CONTROLE\n",
      "\n",
      "1 - Ver Status\n",
      "2 - Adicionar Ganhos\n",
      "3 - Listar Ganhos do Caminhos à Frente\n",
      "4 - Listar Ganhos de Laço\n",
      "5 - Calcular FT\n",
      "6 - Encerrar\n",
      "    \n",
      "Vendo Status...\n",
      "INFORMAÇÕES DO SISTEMA\n",
      "\n",
      "Sinais:\n",
      "R V1 V2 V3 V4 C \n",
      "\n",
      "Caminhos:\n",
      "1. R -> V1 -> V2 -> V4 -> C\n",
      "2. R -> V1 -> V2 -> V3 -> V4 -> C\n",
      "\n",
      "Laços:\n",
      "1. V1 -> V2 -> V3 -> V1\n",
      "2. V2 -> V3 -> V2\n",
      "3. V4 -> C -> V4\n",
      "\n",
      "Laços que não se tocam:\n",
      "1. 1 e 3\n",
      "2. 2 e 3\n",
      "\n",
      "Matriz:\n",
      "\n",
      "MATRIZ DE ADJACÊNCIAS:\n",
      "\n",
      "⎡0  1  0  0  0  0⎤\n",
      "⎢                ⎥\n",
      "⎢0  0  1  0  0  0⎥\n",
      "⎢                ⎥\n",
      "⎢0  0  0  1  1  0⎥\n",
      "⎢                ⎥\n",
      "⎢0  1  1  0  1  0⎥\n",
      "⎢                ⎥\n",
      "⎢0  0  0  0  0  1⎥\n",
      "⎢                ⎥\n",
      "⎣0  0  0  0  1  0⎦\n",
      "SISTEMAS DE CONTROLE\n",
      "\n",
      "1 - Ver Status\n",
      "2 - Adicionar Ganhos\n",
      "3 - Listar Ganhos do Caminhos à Frente\n",
      "4 - Listar Ganhos de Laço\n",
      "5 - Calcular FT\n",
      "6 - Encerrar\n",
      "    \n",
      "Encerrando Programa...\n"
     ]
    }
   ],
   "source": [
    "# ==================================================\n",
    "# EXECUÇÃO DO PROGRAMA\n",
    "\n",
    "print('\\nCriando Sistema...'); time.sleep(0.2)\n",
    "os.system('cls')\n",
    "\n",
    "sistema = Sistema(num_sinais)\n",
    "print('Para adicionar novas conexões, utilize a simbologia a seguir:')\n",
    "print('''\n",
    "    R>V1: indica um caminho do sinal da entrada R para o sinal V1;\n",
    "    V3>V1: indica um laço de realimentação do sinal V3 para o sinal de entrada V1.\n",
    "\n",
    "''')\n",
    "\n",
    "# R>V1, V1>V2,  V1>V2,  V1>V4,  V2>V3,  V3>V2,  V3>V4,  V4>V5,  V5>V4,  V5>V4,  V5>V1,  V5>C\n",
    "# 1,    s,      2*s,    2*s,    s,      -1,     1,     1/(s+1), -1,     -4,     -1,     1  \n",
    "# R>V1, V1>V2, V2>V3, V2>V4, V3>V4, V3>V2, V3>V1, V4>C, C>V4\n",
    "conex = input('Insira as conexões a serem adicionadas, separadas por vírgula:\\n')\n",
    "sistema.adiciona_conexao(conex)\n",
    "\n",
    "opc = 0\n",
    "while True:\n",
    "    opc = exibe_menu()\n",
    "    \n",
    "    if opc == 1:\n",
    "        print('Vendo Status...'); time.sleep(0.2)\n",
    "        os.system('cls')\n",
    "        \n",
    "        sistema.status()\n",
    "        input()\n",
    "\n",
    "    elif opc == 2:\n",
    "        print('Adicionando Ganhos...'); time.sleep(0.2)\n",
    "        os.system('cls')\n",
    "        \n",
    "        sistema.add_polinomio()\n",
    "\n",
    "    elif opc == 3:\n",
    "        print('Listando Ganhos do Caminho à Frente...'); time.sleep(0.2)\n",
    "        os.system('cls')\n",
    "        \n",
    "        print(f'GANHOS DE CAMINHO À FRENTE:\\n')\n",
    "        g = sistema.exibe_lista(sistema.lista_caminhos(), '->', True)\n",
    "        for ganho in sistema.ganho_caminhos:\n",
    "            next(g)\n",
    "            print(f'Ganho:')\n",
    "            print(f'{pretty(ganho)}\\n')\n",
    "\n",
    "        print(f'\\nMATRIZ DE GANHOS:')\n",
    "        sistema.exibe_matriz(sistema.matriz_poly)\n",
    "        input()\n",
    "\n",
    "    \n",
    "    elif opc == 4:\n",
    "        print('Listando Ganhos de Laço...'); time.sleep(0.2)\n",
    "        os.system('cls')\n",
    "        \n",
    "        print(f'GANHOS DE LAÇO:\\n')\n",
    "        g1 = sistema.exibe_lista(sistema.lista_lacos(), '->', True)\n",
    "        for ganho in sistema.ganho_lacos:\n",
    "            next(g1)\n",
    "            print(f'Ganho:')\n",
    "            print(f'{pretty(ganho)}\\n')\n",
    "        \n",
    "        # imprime o grupo de laços que não se tocam:\n",
    "        print(f'\\nLaços que não se tocam:')\n",
    "        g2 = sistema.exibe_lista(sistema.lista_lacos_nao_tocam(), 'e', True)\n",
    "        for ganho in sistema.ganhos_nao_tocam:\n",
    "            next(g2)\n",
    "            print(f'Ganho:')\n",
    "            print(f'{pretty(ganho[0])}\\n')\n",
    "\n",
    "        print(f'\\nMATRIZ DE GANHOS:')\n",
    "        sistema.exibe_matriz(sistema.matriz_poly)\n",
    "        input()\n",
    "\n",
    "    elif opc == 5:\n",
    "        print('Calculando Função de Transferência...'); time.sleep(0.2)\n",
    "        os.system('cls')\n",
    "\n",
    "        print(f'FUNÇÃO TRANSFERÊNCIA EQUIVALENTE:\\n')\n",
    "        sistema.calcula_FT()\n",
    "        input()\n",
    "\n",
    "    elif opc == 6:\n",
    "        print('Encerrando Programa...'); time.sleep(0.2)\n",
    "        os.system('cls')\n",
    "        break\n",
    "\n",
    "    else:\n",
    "        print('Opção Inválida...'); time.sleep(0.2)\n"
   ]
  }
 ],
 "metadata": {
  "kernelspec": {
   "display_name": "Python 3",
   "language": "python",
   "name": "python3"
  },
  "language_info": {
   "codemirror_mode": {
    "name": "ipython",
    "version": 3
   },
   "file_extension": ".py",
   "mimetype": "text/x-python",
   "name": "python",
   "nbconvert_exporter": "python",
   "pygments_lexer": "ipython3",
   "version": "3.11.4"
  }
 },
 "nbformat": 4,
 "nbformat_minor": 2
}
