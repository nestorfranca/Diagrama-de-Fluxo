{
 "cells": [
  {
   "cell_type": "markdown",
   "metadata": {},
   "source": [
    "# SISTEMAS DE CONTROLE I"
   ]
  },
  {
   "cell_type": "markdown",
   "metadata": {},
   "source": [
    "Esse programa é um protótipo desenvolvido para realizar\n",
    "a montagem dinâmica e o cálculo de um sistema de controle."
   ]
  },
  {
   "cell_type": "markdown",
   "metadata": {},
   "source": [
    "## Representação do Sistema"
   ]
  },
  {
   "cell_type": "markdown",
   "metadata": {},
   "source": [
    "Podemos representar um sistema de controle através do método de Diagrama de Fluxo.\n",
    "\n",
    "Nesse método, os sinais são representados por vértices, que funcionam como pontos de conexão. E os sistemas, são conpreendidos pelas conexões entre dois sinais."
   ]
  },
  {
   "cell_type": "markdown",
   "metadata": {},
   "source": [
    "<center> \n",
    "<img alt=\"Diagrama de Fluxo de Sinal\" src=\"../img/representacao.png\">\n",
    "</center>"
   ]
  },
  {
   "cell_type": "markdown",
   "metadata": {},
   "source": [
    "Esse método é muito similar a representação de grafos. \n",
    "\n",
    "Dessa forma, assim como em grafos, podemos facilmente representar computacionalmente utilizando uma matriz de adjacências.\n",
    "Com a matriz de adjacências, podemos indicar facilmente as conexões existentes entre vértices da matriz, através de um valor na coordenada $(i, j)$, onde $i$ é o vértice de origem e $j$ o vértice de destino. E esse valor indica quantas conexões existem entre esses esses vértices.\n",
    "\n",
    "<center><img src=\"../img/sistema_exemplo.png\"></center>\n",
    "\n",
    "Como podemos ver no exemplo acima, temos um sistema de controle composto por 3 sinais e 3 sistemas. E podemos representá-lo através pela matriz de adjacências abaixo:\n",
    "\n",
    "$$\n",
    "\\begin{bmatrix}\n",
    "0 & 1 & 0 \\\\\n",
    "0 & 0 & 1 \\\\\n",
    "0 & 1 & 0 \n",
    "\\end{bmatrix}\n",
    "$$\n",
    "\n",
    "A matriz possui 3 vértices, e há 3 valores não-nulos dentro dela, indicando as conexões existentes no sistema de controle. Considerando que os vértices são R(s), E(s) e C(s), respectivamente, podemos identificar as seguintes conexões:\n",
    "\n",
    "- R(s) se conecta a E(s);\n",
    "- E(s) se conecta a C(s);\n",
    "- C(s) se conecta a E(s);\n",
    "\n",
    "Portanto, a matriz nos permite armazenar o estado de nosso sistema perfeitamente.\n",
    "\n"
   ]
  },
  {
   "cell_type": "markdown",
   "metadata": {},
   "source": [
    "## Identificando Caminhos à Frente"
   ]
  },
  {
   "cell_type": "markdown",
   "metadata": {},
   "source": [
    "aa"
   ]
  },
  {
   "cell_type": "markdown",
   "metadata": {},
   "source": [
    "## Identificando Laços"
   ]
  },
  {
   "cell_type": "markdown",
   "metadata": {},
   "source": [
    "aa"
   ]
  },
  {
   "cell_type": "markdown",
   "metadata": {},
   "source": [
    "## Calculando os Ganhos"
   ]
  },
  {
   "cell_type": "markdown",
   "metadata": {},
   "source": [
    "aa"
   ]
  },
  {
   "cell_type": "markdown",
   "metadata": {},
   "source": [
    "### Ganhos de Caminho à Frente:"
   ]
  },
  {
   "cell_type": "markdown",
   "metadata": {},
   "source": [
    "aa"
   ]
  },
  {
   "cell_type": "markdown",
   "metadata": {},
   "source": [
    "### Ganhos de Laço:"
   ]
  },
  {
   "cell_type": "markdown",
   "metadata": {},
   "source": [
    "aa"
   ]
  },
  {
   "cell_type": "markdown",
   "metadata": {},
   "source": [
    "### Ganhos de Laço que não se Encostam:"
   ]
  },
  {
   "cell_type": "markdown",
   "metadata": {},
   "source": [
    "aa"
   ]
  },
  {
   "cell_type": "markdown",
   "metadata": {},
   "source": [
    "## Calculando a Função de Transferência Equivalente"
   ]
  },
  {
   "cell_type": "markdown",
   "metadata": {},
   "source": [
    "aa"
   ]
  },
  {
   "cell_type": "markdown",
   "metadata": {},
   "source": [
    "### $\\Delta$:"
   ]
  },
  {
   "cell_type": "markdown",
   "metadata": {},
   "source": [
    "aa"
   ]
  },
  {
   "cell_type": "markdown",
   "metadata": {},
   "source": [
    "### $\\Delta_k$:"
   ]
  },
  {
   "cell_type": "markdown",
   "metadata": {},
   "source": [
    "aa"
   ]
  },
  {
   "cell_type": "markdown",
   "metadata": {},
   "source": [
    "### Função de Transferência:"
   ]
  },
  {
   "cell_type": "markdown",
   "metadata": {},
   "source": [
    "$${\\cfrac{\\sum_{k}T_k\\Delta_k}{\\Delta}}$$"
   ]
  },
  {
   "cell_type": "markdown",
   "metadata": {},
   "source": [
    "## Baixando as bibliotecas "
   ]
  },
  {
   "cell_type": "code",
   "execution_count": 1,
   "metadata": {},
   "outputs": [
    {
     "name": "stdout",
     "output_type": "stream",
     "text": [
      "Requirement already satisfied: sympy in c:\\users\\gusta\\appdata\\local\\programs\\python\\python311\\lib\\site-packages (1.13.3)\n",
      "Requirement already satisfied: mpmath<1.4,>=1.1.0 in c:\\users\\gusta\\appdata\\local\\programs\\python\\python311\\lib\\site-packages (from sympy) (1.3.0)\n",
      "Note: you may need to restart the kernel to use updated packages.\n"
     ]
    }
   ],
   "source": [
    "%pip install sympy"
   ]
  },
  {
   "cell_type": "markdown",
   "metadata": {},
   "source": [
    "## Importando as bibliotecas necessarias "
   ]
  },
  {
   "cell_type": "code",
   "execution_count": 1,
   "metadata": {},
   "outputs": [],
   "source": [
    "from sympy import symbols, Matrix, pretty\n",
    "import os, time\n",
    "from sistema import *\n",
    "\n",
    "# Definindo variáveis simbólicas:\n",
    "s = symbols('s')"
   ]
  },
  {
   "cell_type": "markdown",
   "metadata": {},
   "source": [
    "## Execução do Programa"
   ]
  },
  {
   "cell_type": "code",
   "execution_count": 16,
   "metadata": {},
   "outputs": [],
   "source": [
    "'''\n",
    "O Sistema possui quantos sinais?\n",
    "'''\n",
    "num_sinais =  7  #<- Digite aqui\n",
    "sistema = Sistema(num_sinais)"
   ]
  },
  {
   "cell_type": "code",
   "execution_count": 17,
   "metadata": {},
   "outputs": [
    {
     "data": {
      "text/plain": [
       "'R>V1, V1>V2,  V1>V2,  V1>V4,  V2>V3,  V3>V2,  V3>V4,  V4>V5,  V5>V4,  V5>V4,  V5>V1,  V5>C'"
      ]
     },
     "execution_count": 17,
     "metadata": {},
     "output_type": "execute_result"
    }
   ],
   "source": [
    "\n",
    "# R>V1, V1>V2,  V1>V2,  V1>V4,  V2>V3,  V3>V2,  V3>V4,  V4>V5,  V5>V4,  V5>V4,  V5>V1,  V5>C\n",
    "# 1,    s,      2*s,    2*s,    s,      -1,     1,     1/(s+1), -1,     -4,     -1,     1  \n",
    "# R>V1, V1>V2, V2>V3, V2>V4, V3>V4, V3>V2, V3>V1, V4>C, C>V4\n",
    "'''\n",
    "Insira as conexões a serem adicionadas separadas por vírgulas em forma de string\n",
    "'''\n",
    "conex = 'R>V1, V1>V2,  V1>V2,  V1>V4,  V2>V3,  V3>V2,  V3>V4,  V4>V5,  V5>V4,  V5>V4,  V5>V1,  V5>C' #<- Digite aqui\n",
    "sistema.adiciona_conexao(conex)\n",
    "conex"
   ]
  },
  {
   "cell_type": "code",
   "execution_count": null,
   "metadata": {},
   "outputs": [],
   "source": [
    "#Verificar o status do input\n",
    "sistema.status()"
   ]
  },
  {
   "cell_type": "code",
   "execution_count": 19,
   "metadata": {},
   "outputs": [],
   "source": [
    "sistema.add_polinomio()"
   ]
  },
  {
   "cell_type": "code",
   "execution_count": 23,
   "metadata": {},
   "outputs": [],
   "source": [
    "# calcula delta:\n",
    "sistema.calcula_delta()\n",
    "try: \n",
    "    # valores de delta de cada caminho:        \n",
    "    deltas_k = sistema.calcula_delta_k()\n",
    "\n",
    "    # calcula FT equivalente:\n",
    "    sum = 0\n",
    "    for k in range(len(sistema.caminhos)):\n",
    "        sum += (sistema.ganho_caminhos[k]* deltas_k[k])\n",
    "\n",
    "    FT = sum/sistema.delta\n",
    "\n",
    "    simplify(FT)\n",
    "    \n",
    "except ZeroDivisionError: print(\"INDETERMINADO! Delta igual a Zero.\")"
   ]
  },
  {
   "cell_type": "code",
   "execution_count": null,
   "metadata": {},
   "outputs": [],
   "source": [
    "!pip install graphviz"
   ]
  },
  {
   "cell_type": "code",
   "execution_count": null,
   "metadata": {},
   "outputs": [],
   "source": [
    "import graphviz\n",
    "from IPython.display import Image, display\n",
    "\n",
    "dot = graphviz.Digraph()\n",
    "\n",
    "# Define a direção do gráfico: Left to Right e espaçamento entre nós e arestas\n",
    "# dot.attr(nodesep='1.0')\n",
    "\n",
    "matriz = [\n",
    "    [0, 1, 0, 0, 0, 0, 0, 0, 0, 0],\n",
    "    [0, 0, 1, 0, 0, 0, 0, 0, 0, 0],\n",
    "    [0, 0, 0, 1, 0, 0, 0, 0, 0, 0],\n",
    "    [0, 0, 0, 0, 1, 1, 0, 0, 0, 0],\n",
    "    [0, 0, 0, 0, 0, 1, 1, 1, 0, 0],\n",
    "    [0, 0, 0, 0, 0, 0, 0, 0, 0, 1],\n",
    "    [0, 1, 0, 0, 0, 0, 0, 0, 0, 0],\n",
    "    [0, 0, 0, 1, 0, 0, 0, 0, 0, 0],\n",
    "    [0, 0, 0, 0, 0, 1, 0, 0, 0, 0],\n",
    "    [0, 0, 0, 0, 0, 0, 0, 0, 1, 0]\n",
    "]\n",
    "\n",
    "\n",
    "# Criação dos nós\n",
    "dot.node('R', 'R')\n",
    "dot.node('C', 'C')\n",
    "# Agrupando os nós intermediários em sequência, para que fiquem em ordem\n",
    "with dot.subgraph() as sg:\n",
    "    sg.attr(rank='same')\n",
    "    for i in range(1, len(matriz) - 1):\n",
    "        sg.node('V' + str(i), 'V' + str(i))\n",
    "\n",
    "# Gera as ligações diretas na ordem R -> V1 -> V2 -> ... -> C\n",
    "for i in range(len(matriz)):\n",
    "    for j in range(len(matriz)):\n",
    "        if i == 0 and j > i and matriz[i][j] == 1 and j != len(matriz) - 1:\n",
    "            dot.edge('R', 'V' + str(j), constraint = 'true')\n",
    "        elif i == 0 and matriz[i][j] == 1 and j == len(matriz) - 1:\n",
    "            dot.edge('R', 'C', constraint = 'true')\n",
    "        elif i != 0 and j > i and matriz[i][j] == 1 and j != len(matriz) - 1:\n",
    "            dot.edge('V' + str(i), 'V' + str(j), constraint = 'true')\n",
    "        elif i != 0 and j > i and matriz[i][j] == 1 and j == len(matriz) - 1:\n",
    "            dot.edge('V' + str(i), 'C', constraint = 'true')\n",
    "\n",
    "# Gera as realimentações com linhas tracejadas e cor vermelha\n",
    "for i in range(len(matriz)):\n",
    "    for j in range(len(matriz)):\n",
    "        if i == len(matriz) - 1 and j == 0 and matriz[i][j] == 1:\n",
    "            dot.edge('C', 'R', style='dashed', color='red', constraint = 'false')\n",
    "        elif i == len(matriz) - 1 and i > j and matriz[i][j] == 1:\n",
    "            dot.edge('C', 'V' + str(j), style='dashed', color='red', constraint = 'false')\n",
    "        elif i != len(matriz) - 1 and i > j and j == 0 and matriz[i][j] == 1:\n",
    "            dot.edge('V' + str(i), 'R', style='dashed', color='red', constraint = 'false')\n",
    "        elif i != len(matriz) - 1 and i > j and matriz[i][j] == 1 and j != 0:\n",
    "            dot.edge('V' + str(i), 'V' + str(j), style='dashed', color='red', constraint = 'false')\n",
    "\n",
    "# Renderiza diretamente no formato PNG e exibe\n",
    "image_data = dot.pipe(format='png')\n",
    "display(Image(image_data))"
   ]
  }
 ],
 "metadata": {
  "kernelspec": {
   "display_name": "Python 3",
   "language": "python",
   "name": "python3"
  },
  "language_info": {
   "codemirror_mode": {
    "name": "ipython",
    "version": 3
   },
   "file_extension": ".py",
   "mimetype": "text/x-python",
   "name": "python",
   "nbconvert_exporter": "python",
   "pygments_lexer": "ipython3",
   "version": "3.11.4"
  }
 },
 "nbformat": 4,
 "nbformat_minor": 2
}
